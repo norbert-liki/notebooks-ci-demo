{
 "cells": [
  {
   "cell_type": "code",
   "execution_count": 66,
   "metadata": {},
   "outputs": [],
   "source": [
    "%%capture\n",
    "%load_ext google.cloud.bigquery"
   ]
  },
  {
   "cell_type": "code",
   "execution_count": 94,
   "metadata": {},
   "outputs": [],
   "source": [
    "import pandas as pd\n",
    "import warnings\n",
    "import matplotlib.pyplot as plt\n",
    "\n",
    "warnings.filterwarnings('ignore', category=UserWarning)"
   ]
  },
  {
   "cell_type": "code",
   "execution_count": 61,
   "metadata": {
    "tags": [
     "parameters"
    ]
   },
   "outputs": [],
   "source": [
    "# cell has tag: \"parameters\", default if not provided\n",
    "start_date = \"2017-07-01\"\n",
    "end_date = \"2020-01-01\""
   ]
  },
  {
   "cell_type": "code",
   "execution_count": 62,
   "metadata": {},
   "outputs": [
    {
     "name": "stdout",
     "output_type": "stream",
     "text": [
      "Including rides between 2017-07-01 and 2020-01-01\n"
     ]
    }
   ],
   "source": [
    "params = {\n",
    "    \"start_date\": start_date, \n",
    "    \"end_date\": end_date\n",
    "}\n",
    "print(\"Including rides between {} and {}\".format(start_date, end_date))"
   ]
  },
  {
   "cell_type": "code",
   "execution_count": 98,
   "metadata": {},
   "outputs": [],
   "source": [
    "%%bigquery sf_stations --params $params\n",
    "SELECT\n",
    "    TIMESTAMP_TRUNC(trips.start_date, DAY) AS start_day,\n",
    "    stations.station_id,\n",
    "    stations.name,\n",
    "    stations.lat,\n",
    "    stations.lon,\n",
    "    COUNT(*) as trip_count\n",
    "FROM\n",
    "    `bigquery-public-data.san_francisco_bikeshare.bikeshare_trips` as trips\n",
    "JOIN \n",
    "    `bigquery-public-data.san_francisco_bikeshare.bikeshare_station_info` as stations \n",
    "ON \n",
    "    trips.start_station_id = stations.station_id\n",
    "WHERE\n",
    "    stations.lat BETWEEN 37.7 AND 38.5 AND \n",
    "    stations.lon BETWEEN -122.5 AND -122.35 AND\n",
    "    trips.start_date BETWEEN TIMESTAMP( @start_date ) AND TIMESTAMP( @end_date )\n",
    "GROUP BY\n",
    "    1,2,3,4,5"
   ]
  },
  {
   "cell_type": "markdown",
   "metadata": {},
   "source": [
    "## Top 10 Stations"
   ]
  },
  {
   "cell_type": "code",
   "execution_count": 99,
   "metadata": {},
   "outputs": [
    {
     "data": {
      "text/html": [
       "<div>\n",
       "<style scoped>\n",
       "    .dataframe tbody tr th:only-of-type {\n",
       "        vertical-align: middle;\n",
       "    }\n",
       "\n",
       "    .dataframe tbody tr th {\n",
       "        vertical-align: top;\n",
       "    }\n",
       "\n",
       "    .dataframe thead th {\n",
       "        text-align: right;\n",
       "    }\n",
       "</style>\n",
       "<table border=\"1\" class=\"dataframe\">\n",
       "  <thead>\n",
       "    <tr style=\"text-align: right;\">\n",
       "      <th></th>\n",
       "      <th>trip_count</th>\n",
       "    </tr>\n",
       "    <tr>\n",
       "      <th>name</th>\n",
       "      <th></th>\n",
       "    </tr>\n",
       "  </thead>\n",
       "  <tbody>\n",
       "    <tr>\n",
       "      <th>San Francisco Ferry Building (Harry Bridges Plaza)</th>\n",
       "      <td>24887</td>\n",
       "    </tr>\n",
       "    <tr>\n",
       "      <th>San Francisco Caltrain (Townsend St at 4th St)</th>\n",
       "      <td>22095</td>\n",
       "    </tr>\n",
       "    <tr>\n",
       "      <th>The Embarcadero at Sansome St</th>\n",
       "      <td>21831</td>\n",
       "    </tr>\n",
       "    <tr>\n",
       "      <th>Market St at 10th St</th>\n",
       "      <td>20761</td>\n",
       "    </tr>\n",
       "    <tr>\n",
       "      <th>Berry St at 4th St</th>\n",
       "      <td>19875</td>\n",
       "    </tr>\n",
       "    <tr>\n",
       "      <th>Montgomery St BART Station (Market St at 2nd St)</th>\n",
       "      <td>18824</td>\n",
       "    </tr>\n",
       "    <tr>\n",
       "      <th>Powell St BART Station (Market St at 4th St)</th>\n",
       "      <td>17591</td>\n",
       "    </tr>\n",
       "    <tr>\n",
       "      <th>Howard St at Beale St</th>\n",
       "      <td>16700</td>\n",
       "    </tr>\n",
       "    <tr>\n",
       "      <th>Steuart St at Market St</th>\n",
       "      <td>16241</td>\n",
       "    </tr>\n",
       "    <tr>\n",
       "      <th>Powell St BART Station (Market St at 5th St)</th>\n",
       "      <td>13988</td>\n",
       "    </tr>\n",
       "  </tbody>\n",
       "</table>\n",
       "</div>"
      ],
      "text/plain": [
       "                                                    trip_count\n",
       "name                                                          \n",
       "San Francisco Ferry Building (Harry Bridges Plaza)       24887\n",
       "San Francisco Caltrain (Townsend St at 4th St)           22095\n",
       "The Embarcadero at Sansome St                            21831\n",
       "Market St at 10th St                                     20761\n",
       "Berry St at 4th St                                       19875\n",
       "Montgomery St BART Station (Market St at 2nd St)         18824\n",
       "Powell St BART Station (Market St at 4th St)             17591\n",
       "Howard St at Beale St                                    16700\n",
       "Steuart St at Market St                                  16241\n",
       "Powell St BART Station (Market St at 5th St)             13988"
      ]
     },
     "execution_count": 99,
     "metadata": {},
     "output_type": "execute_result"
    }
   ],
   "source": [
    "sf_stations.groupby(['name']).agg(trip_count=pd.NamedAgg('trip_count','sum')).sort_values('trip_count',ascending=False).head(10)"
   ]
  },
  {
   "cell_type": "markdown",
   "metadata": {},
   "source": [
    "## Trip Trends"
   ]
  },
  {
   "cell_type": "code",
   "execution_count": 103,
   "metadata": {},
   "outputs": [
    {
     "data": {
      "text/plain": [
       "<matplotlib.axes._subplots.AxesSubplot at 0x7ff2f24a1438>"
      ]
     },
     "execution_count": 103,
     "metadata": {},
     "output_type": "execute_result"
    },
    {
     "data": {
      "image/png": "[encoded data removed]",
      "text/plain": [
       "<Figure size 432x288 with 1 Axes>"
      ]
     },
     "metadata": {
      "needs_background": "light"
     },
     "output_type": "display_data"
    }
   ],
   "source": [
    "sf_stations.groupby(['start_day']).agg(trips=pd.NamedAgg('trip_count','sum')).plot.line()"
   ]
  }
 ],
 "metadata": {
  "kernelspec": {
   "display_name": "Python 3",
   "language": "python",
   "name": "python3"
  },
  "language_info": {
   "codemirror_mode": {
    "name": "ipython",
    "version": 3
   },
   "file_extension": ".py",
   "mimetype": "text/x-python",
   "name": "python",
   "nbconvert_exporter": "python",
   "pygments_lexer": "ipython3",
   "version": "3.5.3"
  }
 },
 "nbformat": 4,
 "nbformat_minor": 4
}
