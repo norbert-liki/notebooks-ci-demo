{
 "cells": [
  {
   "cell_type": "markdown",
   "metadata": {},
   "source": [
    "# SF Bike Rentals"
   ]
  },
  {
   "cell_type": "code",
   "execution_count": null,
   "metadata": {},
   "outputs": [
    {
     "evalue": "Error: Jupyter server crashed. Unable to connect. \r\nError code from jupyter: 1",
     "output_type": "error"
    }
   ],
   "source": [
    "%%capture\n",
    "%pip install google-cloud-bigquery bokeh\n",
    "%load_ext google.cloud.bigquery"
   ]
  },
  {
   "cell_type": "code",
   "execution_count": 2,
   "metadata": {
    "tags": [
     "parameters"
    ]
   },
   "outputs": [],
   "source": [
    "# cell has tag: \"parameters\", default if not provided\n",
    "start_date = \"2000-01-01\"\n",
    "end_date = \"2020-01-01\""
   ]
  },
  {
   "cell_type": "code",
   "execution_count": 3,
   "metadata": {},
   "outputs": [
    {
     "name": "stdout",
     "output_type": "stream",
     "text": [
      "Including rides between 2000-01-01 and 2020-01-01\n"
     ]
    }
   ],
   "source": [
    "params = {\n",
    "    \"start_date\": start_date, \n",
    "    \"end_date\": end_date\n",
    "}\n",
    "print(\"Including rides between {} and {}\".format(start_date, end_date))"
   ]
  },
  {
   "cell_type": "code",
   "execution_count": 4,
   "metadata": {},
   "outputs": [],
   "source": [
    "%%bigquery sf_stations --params $params\n",
    "SELECT\n",
    "    stations.station_id,\n",
    "    stations.name,\n",
    "    stations.lat,\n",
    "    stations.lon,\n",
    "    COUNT(*) as count\n",
    "FROM\n",
    "    `bigquery-public-data.san_francisco_bikeshare.bikeshare_trips` as trips\n",
    "JOIN \n",
    "    `bigquery-public-data.san_francisco_bikeshare.bikeshare_station_info` as stations \n",
    "ON \n",
    "    trips.start_station_id = stations.station_id\n",
    "WHERE\n",
    "    stations.lat BETWEEN 37.7 AND 38.5 AND \n",
    "    stations.lon BETWEEN -122.5 AND -122.35 AND\n",
    "    trips.start_date BETWEEN TIMESTAMP( @start_date ) AND TIMESTAMP( @end_date )\n",
    "GROUP BY\n",
    "    stations.station_id, stations.name, stations.lat, stations.lon\n",
    "ORDER By\n",
    "    count DESC"
   ]
  },
  {
   "cell_type": "markdown",
   "metadata": {},
   "source": [
    "## Top 10 Stations"
   ]
  },
  {
   "cell_type": "code",
   "execution_count": 5,
   "metadata": {},
   "outputs": [
    {
     "data": {
      "text/html": [
       "<style  type=\"text/css\" >\n",
       "</style><table id=\"T_4398f1e4_4f31_11e9_ac09_42010a8a0047\" ><thead>    <tr>        <th class=\"col_heading level0 col0\" >name</th>        <th class=\"col_heading level0 col1\" >count</th>    </tr></thead><tbody>\n",
       "                <tr>\n",
       "                                <td id=\"T_4398f1e4_4f31_11e9_ac09_42010a8a0047row0_col0\" class=\"data row0 col0\" >Central Ave at Fell St</td>\n",
       "                        <td id=\"T_4398f1e4_4f31_11e9_ac09_42010a8a0047row0_col1\" class=\"data row0 col1\" >80370</td>\n",
       "            </tr>\n",
       "            <tr>\n",
       "                                <td id=\"T_4398f1e4_4f31_11e9_ac09_42010a8a0047row1_col0\" class=\"data row1 col0\" >2nd St at Townsend St</td>\n",
       "                        <td id=\"T_4398f1e4_4f31_11e9_ac09_42010a8a0047row1_col1\" class=\"data row1 col1\" >56570</td>\n",
       "            </tr>\n",
       "            <tr>\n",
       "                                <td id=\"T_4398f1e4_4f31_11e9_ac09_42010a8a0047row2_col0\" class=\"data row2 col0\" >San Francisco Caltrain Station 2  (Townsend St at 4th St)</td>\n",
       "                        <td id=\"T_4398f1e4_4f31_11e9_ac09_42010a8a0047row2_col1\" class=\"data row2 col1\" >50283</td>\n",
       "            </tr>\n",
       "            <tr>\n",
       "                                <td id=\"T_4398f1e4_4f31_11e9_ac09_42010a8a0047row3_col0\" class=\"data row3 col0\" >8th St at Ringold St</td>\n",
       "                        <td id=\"T_4398f1e4_4f31_11e9_ac09_42010a8a0047row3_col1\" class=\"data row3 col1\" >46286</td>\n",
       "            </tr>\n",
       "            <tr>\n",
       "                                <td id=\"T_4398f1e4_4f31_11e9_ac09_42010a8a0047row4_col0\" class=\"data row4 col0\" >Howard St at 8th St</td>\n",
       "                        <td id=\"T_4398f1e4_4f31_11e9_ac09_42010a8a0047row4_col1\" class=\"data row4 col1\" >45166</td>\n",
       "            </tr>\n",
       "            <tr>\n",
       "                                <td id=\"T_4398f1e4_4f31_11e9_ac09_42010a8a0047row5_col0\" class=\"data row5 col0\" >Laguna St at Hayes St</td>\n",
       "                        <td id=\"T_4398f1e4_4f31_11e9_ac09_42010a8a0047row5_col1\" class=\"data row5 col1\" >43779</td>\n",
       "            </tr>\n",
       "            <tr>\n",
       "                                <td id=\"T_4398f1e4_4f31_11e9_ac09_42010a8a0047row6_col0\" class=\"data row6 col0\" >Webster St at Grove St</td>\n",
       "                        <td id=\"T_4398f1e4_4f31_11e9_ac09_42010a8a0047row6_col1\" class=\"data row6 col1\" >41647</td>\n",
       "            </tr>\n",
       "            <tr>\n",
       "                                <td id=\"T_4398f1e4_4f31_11e9_ac09_42010a8a0047row7_col0\" class=\"data row7 col0\" >11th St at Natoma St</td>\n",
       "                        <td id=\"T_4398f1e4_4f31_11e9_ac09_42010a8a0047row7_col1\" class=\"data row7 col1\" >39243</td>\n",
       "            </tr>\n",
       "            <tr>\n",
       "                                <td id=\"T_4398f1e4_4f31_11e9_ac09_42010a8a0047row8_col0\" class=\"data row8 col0\" >McCoppin St at Valencia St</td>\n",
       "                        <td id=\"T_4398f1e4_4f31_11e9_ac09_42010a8a0047row8_col1\" class=\"data row8 col1\" >33035</td>\n",
       "            </tr>\n",
       "            <tr>\n",
       "                                <td id=\"T_4398f1e4_4f31_11e9_ac09_42010a8a0047row9_col0\" class=\"data row9 col0\" >5th St at Brannan St</td>\n",
       "                        <td id=\"T_4398f1e4_4f31_11e9_ac09_42010a8a0047row9_col1\" class=\"data row9 col1\" >30195</td>\n",
       "            </tr>\n",
       "    </tbody></table>"
      ],
      "text/plain": [
       "<pandas.io.formats.style.Styler at 0x7f21e14f38d0>"
      ]
     },
     "execution_count": 5,
     "metadata": {},
     "output_type": "execute_result"
    }
   ],
   "source": [
    "top = sf_stations[['name','count']].head(10)\n",
    "top.style.hide_index()"
   ]
  },
  {
   "cell_type": "markdown",
   "metadata": {},
   "source": [
    "## Station Map"
   ]
  }
 ],
 "metadata": {
  "kernelspec": {
   "display_name": "Python 3",
   "language": "python",
   "name": "python3"
  },
  "language_info": {
   "codemirror_mode": {
    "name": "ipython",
    "version": 3
   },
   "file_extension": ".py",
   "mimetype": "text/x-python",
   "name": "python",
   "nbconvert_exporter": "python",
   "pygments_lexer": "ipython3",
   "version": "3.5.3"
  }
 },
 "nbformat": 4,
 "nbformat_minor": 2
}